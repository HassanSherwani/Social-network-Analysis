{
 "cells": [
  {
   "cell_type": "markdown",
   "metadata": {},
   "source": [
    "# Predicting friends' network"
   ]
  },
  {
   "cell_type": "markdown",
   "metadata": {},
   "source": [
    "# 1)- Importing ket modules"
   ]
  },
  {
   "cell_type": "code",
   "execution_count": 1,
   "metadata": {},
   "outputs": [],
   "source": [
    "#importing packages\n",
    "\n",
    "import networkx as nx\n",
    "import pandas as pd\n",
    "import numpy as np\n",
    "import matplotlib.pyplot as plt\n",
    "%matplotlib inline"
   ]
  },
  {
   "cell_type": "code",
   "execution_count": 2,
   "metadata": {},
   "outputs": [],
   "source": [
    "#creating the graph\n",
    "G = nx.Graph()"
   ]
  },
  {
   "cell_type": "code",
   "execution_count": 3,
   "metadata": {},
   "outputs": [
    {
     "data": {
      "text/plain": [
       "networkx.classes.graph.Graph"
      ]
     },
     "execution_count": 3,
     "metadata": {},
     "output_type": "execute_result"
    }
   ],
   "source": [
    "type(G)"
   ]
  },
  {
   "cell_type": "markdown",
   "metadata": {},
   "source": [
    "# 2)- Creating network"
   ]
  },
  {
   "cell_type": "code",
   "execution_count": 4,
   "metadata": {},
   "outputs": [],
   "source": [
    "#adding edges\n",
    "G.add_edge('Hassan', 'Tariq')\n",
    "G.add_edge('Hassan', 'Asad')\n",
    "G.add_edge('Hassan', 'Sammiya')\n",
    "G.add_edge('Hafsa', 'Nadia')\n",
    "G.add_edge('Tariq', 'Nadia')\n",
    "G.add_edge('Tariq', 'Zaheer')\n",
    "G.add_edge('Zaheer', 'Nadia')\n",
    "G.add_edge('Saleem', 'Nadia')\n",
    "G.add_edge('Mayeda', 'Asad')\n",
    "G.add_edge('Hafsa', 'Nadeem')\n",
    "G.add_edge('Khalid', 'Nadeem')\n",
    "G.add_edge('Mayeda', 'Khalid')\n",
    "G.add_edge('Khalid', 'Asif')\n",
    "G.add_edge('Asif', 'Nadeem')"
   ]
  },
  {
   "cell_type": "code",
   "execution_count": 5,
   "metadata": {},
   "outputs": [
    {
     "data": {
      "text/plain": [
       "'Name: \\nType: Graph\\nNumber of nodes: 12\\nNumber of edges: 14\\nAverage degree:   2.3333'"
      ]
     },
     "execution_count": 5,
     "metadata": {},
     "output_type": "execute_result"
    }
   ],
   "source": [
    "nx.info(G)"
   ]
  },
  {
   "cell_type": "code",
   "execution_count": 6,
   "metadata": {},
   "outputs": [
    {
     "data": {
      "text/plain": [
       "NodeView(('Hassan', 'Tariq', 'Asad', 'Sammiya', 'Hafsa', 'Nadia', 'Zaheer', 'Saleem', 'Mayeda', 'Nadeem', 'Khalid', 'Asif'))"
      ]
     },
     "execution_count": 6,
     "metadata": {},
     "output_type": "execute_result"
    }
   ],
   "source": [
    "G.nodes()"
   ]
  },
  {
   "cell_type": "code",
   "execution_count": 7,
   "metadata": {},
   "outputs": [
    {
     "data": {
      "text/plain": [
       "EdgeView([('Hassan', 'Tariq'), ('Hassan', 'Asad'), ('Hassan', 'Sammiya'), ('Tariq', 'Nadia'), ('Tariq', 'Zaheer'), ('Asad', 'Mayeda'), ('Hafsa', 'Nadia'), ('Hafsa', 'Nadeem'), ('Nadia', 'Zaheer'), ('Nadia', 'Saleem'), ('Mayeda', 'Khalid'), ('Nadeem', 'Khalid'), ('Nadeem', 'Asif'), ('Khalid', 'Asif')])"
      ]
     },
     "execution_count": 7,
     "metadata": {},
     "output_type": "execute_result"
    }
   ],
   "source": [
    "# View Edges or Connections\n",
    "G.edges()"
   ]
  },
  {
   "cell_type": "markdown",
   "metadata": {},
   "source": [
    "# 3)- Checking key properties of network"
   ]
  },
  {
   "cell_type": "markdown",
   "metadata": {},
   "source": [
    "### 3a)- Degree Centrality"
   ]
  },
  {
   "cell_type": "code",
   "execution_count": 8,
   "metadata": {},
   "outputs": [
    {
     "data": {
      "text/plain": [
       "{'Hassan': 0.2727272727272727,\n",
       " 'Tariq': 0.2727272727272727,\n",
       " 'Asad': 0.18181818181818182,\n",
       " 'Sammiya': 0.09090909090909091,\n",
       " 'Hafsa': 0.18181818181818182,\n",
       " 'Nadia': 0.36363636363636365,\n",
       " 'Zaheer': 0.18181818181818182,\n",
       " 'Saleem': 0.09090909090909091,\n",
       " 'Mayeda': 0.18181818181818182,\n",
       " 'Nadeem': 0.2727272727272727,\n",
       " 'Khalid': 0.2727272727272727,\n",
       " 'Asif': 0.18181818181818182}"
      ]
     },
     "execution_count": 8,
     "metadata": {},
     "output_type": "execute_result"
    }
   ],
   "source": [
    "nx.degree_centrality(G)"
   ]
  },
  {
   "cell_type": "markdown",
   "metadata": {},
   "source": [
    "### 3b) Eigenvector Centrality"
   ]
  },
  {
   "cell_type": "code",
   "execution_count": 9,
   "metadata": {},
   "outputs": [
    {
     "data": {
      "text/plain": [
       "{'Hassan': 0.26535100298143827,\n",
       " 'Tariq': 0.42260959873413567,\n",
       " 'Asad': 0.16515697295536236,\n",
       " 'Sammiya': 0.1020693730836394,\n",
       " 'Hafsa': 0.3015062542484795,\n",
       " 'Nadia': 0.4844176727061465,\n",
       " 'Zaheer': 0.34889508786960977,\n",
       " 'Saleem': 0.186335101281216,\n",
       " 'Mayeda': 0.16400767730223448,\n",
       " 'Nadeem': 0.29940830183866146,\n",
       " 'Khalid': 0.26121129338226057,\n",
       " 'Asif': 0.2156495887606143}"
      ]
     },
     "execution_count": 9,
     "metadata": {},
     "output_type": "execute_result"
    }
   ],
   "source": [
    "nx.eigenvector_centrality(G)"
   ]
  },
  {
   "cell_type": "markdown",
   "metadata": {},
   "source": [
    "### 3c) Betweeness Centrality"
   ]
  },
  {
   "cell_type": "code",
   "execution_count": 10,
   "metadata": {},
   "outputs": [
    {
     "data": {
      "text/plain": [
       "{'Hassan': 0.32727272727272727,\n",
       " 'Tariq': 0.2636363636363636,\n",
       " 'Asad': 0.1909090909090909,\n",
       " 'Sammiya': 0.0,\n",
       " 'Hafsa': 0.24545454545454545,\n",
       " 'Nadia': 0.3818181818181818,\n",
       " 'Zaheer': 0.0,\n",
       " 'Saleem': 0.0,\n",
       " 'Mayeda': 0.16363636363636364,\n",
       " 'Nadeem': 0.21818181818181817,\n",
       " 'Khalid': 0.17272727272727273,\n",
       " 'Asif': 0.0}"
      ]
     },
     "execution_count": 10,
     "metadata": {},
     "output_type": "execute_result"
    }
   ],
   "source": [
    "nx.betweenness_centrality(G)"
   ]
  },
  {
   "cell_type": "markdown",
   "metadata": {},
   "source": [
    "### 3d) Predicting Associations"
   ]
  },
  {
   "cell_type": "code",
   "execution_count": 11,
   "metadata": {},
   "outputs": [
    {
     "data": {
      "text/plain": [
       "0.2638888888888889"
      ]
     },
     "execution_count": 11,
     "metadata": {},
     "output_type": "execute_result"
    }
   ],
   "source": [
    "nx.average_clustering(G)"
   ]
  },
  {
   "cell_type": "code",
   "execution_count": 12,
   "metadata": {},
   "outputs": [
    {
     "data": {
      "text/plain": [
       "0"
      ]
     },
     "execution_count": 12,
     "metadata": {},
     "output_type": "execute_result"
    }
   ],
   "source": [
    "nx.clustering(G,\"Mayeda\")"
   ]
  },
  {
   "cell_type": "code",
   "execution_count": 13,
   "metadata": {},
   "outputs": [
    {
     "data": {
      "text/plain": [
       "0.3333333333333333"
      ]
     },
     "execution_count": 13,
     "metadata": {},
     "output_type": "execute_result"
    }
   ],
   "source": [
    "nx.clustering(G,\"Tariq\")"
   ]
  },
  {
   "cell_type": "markdown",
   "metadata": {},
   "source": [
    "### 3e)- Most Influential friend in network"
   ]
  },
  {
   "cell_type": "code",
   "execution_count": 14,
   "metadata": {},
   "outputs": [
    {
     "data": {
      "text/plain": [
       "{'Hassan': 0.2727272727272727,\n",
       " 'Tariq': 0.2727272727272727,\n",
       " 'Asad': 0.18181818181818182,\n",
       " 'Sammiya': 0.09090909090909091,\n",
       " 'Hafsa': 0.18181818181818182,\n",
       " 'Nadia': 0.36363636363636365,\n",
       " 'Zaheer': 0.18181818181818182,\n",
       " 'Saleem': 0.09090909090909091,\n",
       " 'Mayeda': 0.18181818181818182,\n",
       " 'Nadeem': 0.2727272727272727,\n",
       " 'Khalid': 0.2727272727272727,\n",
       " 'Asif': 0.18181818181818182}"
      ]
     },
     "execution_count": 14,
     "metadata": {},
     "output_type": "execute_result"
    }
   ],
   "source": [
    "nx.degree_centrality(G)"
   ]
  },
  {
   "cell_type": "code",
   "execution_count": 15,
   "metadata": {},
   "outputs": [],
   "source": [
    "# Sort them\n",
    "most_influential = nx.degree_centrality(G)"
   ]
  },
  {
   "cell_type": "code",
   "execution_count": 16,
   "metadata": {},
   "outputs": [
    {
     "name": "stdout",
     "output_type": "stream",
     "text": [
      "Nadia 0.36363636363636365\n",
      "Hassan 0.2727272727272727\n",
      "Tariq 0.2727272727272727\n",
      "Nadeem 0.2727272727272727\n",
      "Khalid 0.2727272727272727\n",
      "Asad 0.18181818181818182\n",
      "Hafsa 0.18181818181818182\n",
      "Zaheer 0.18181818181818182\n",
      "Mayeda 0.18181818181818182\n",
      "Asif 0.18181818181818182\n",
      "Sammiya 0.09090909090909091\n",
      "Saleem 0.09090909090909091\n"
     ]
    }
   ],
   "source": [
    "for w in sorted(most_influential, key=most_influential.get, reverse=True):\n",
    "    print(w, most_influential[w])"
   ]
  },
  {
   "cell_type": "markdown",
   "metadata": {},
   "source": [
    "# 4)- Visualization"
   ]
  },
  {
   "cell_type": "code",
   "execution_count": 17,
   "metadata": {},
   "outputs": [
    {
     "name": "stderr",
     "output_type": "stream",
     "text": [
      "C:\\Users\\Hassan\\AppData\\Roaming\\Python\\Python36\\site-packages\\networkx\\drawing\\nx_pylab.py:611: MatplotlibDeprecationWarning: isinstance(..., numbers.Number)\n",
      "  if cb.is_numlike(alpha):\n"
     ]
    },
    {
     "data": {
      "image/png": "[encoded data removed]",
      "text/plain": [
       "<Figure size 432x288 with 1 Axes>"
      ]
     },
     "metadata": {},
     "output_type": "display_data"
    }
   ],
   "source": [
    "nx.draw(G)"
   ]
  },
  {
   "cell_type": "code",
   "execution_count": 18,
   "metadata": {},
   "outputs": [
    {
     "name": "stderr",
     "output_type": "stream",
     "text": [
      "C:\\Users\\Hassan\\AppData\\Roaming\\Python\\Python36\\site-packages\\networkx\\drawing\\nx_pylab.py:611: MatplotlibDeprecationWarning: isinstance(..., numbers.Number)\n",
      "  if cb.is_numlike(alpha):\n"
     ]
    },
    {
     "data": {
      "image/png": "[encoded data removed]",
      "text/plain": [
       "<Figure size 432x288 with 1 Axes>"
      ]
     },
     "metadata": {},
     "output_type": "display_data"
    }
   ],
   "source": [
    "# with labels by setting it\n",
    "nx.draw(G,with_labels=True)"
   ]
  },
  {
   "cell_type": "markdown",
   "metadata": {},
   "source": [
    "### better shaped visualization"
   ]
  },
  {
   "cell_type": "code",
   "execution_count": 19,
   "metadata": {},
   "outputs": [
    {
     "name": "stderr",
     "output_type": "stream",
     "text": [
      "C:\\Users\\Hassan\\AppData\\Roaming\\Python\\Python36\\site-packages\\networkx\\drawing\\nx_pylab.py:611: MatplotlibDeprecationWarning: isinstance(..., numbers.Number)\n",
      "  if cb.is_numlike(alpha):\n"
     ]
    },
    {
     "data": {
      "text/plain": [
       "(-1.1170721459077224,\n",
       " 1.1170721760407418,\n",
       " -1.1219054892842866,\n",
       " 1.121905533657071)"
      ]
     },
     "execution_count": 19,
     "metadata": {},
     "output_type": "execute_result"
    },
    {
     "data": {
      "image/png": "[encoded data removed]",
      "text/plain": [
       "<Figure size 720x576 with 1 Axes>"
      ]
     },
     "metadata": {},
     "output_type": "display_data"
    }
   ],
   "source": [
    "plt.figure(figsize=(10,8))\n",
    "plt.title('Visualization of Social Network', fontsize=20) #adding a title\n",
    "pos = nx.circular_layout(G) #specifying a circular layout\n",
    "nx.draw_networkx(G, pos, alpha=0.7, with_labels=False, edge_color='.4')\n",
    "plt.axis('off') #turning off the axis"
   ]
  },
  {
   "cell_type": "markdown",
   "metadata": {},
   "source": [
    "### With labels"
   ]
  },
  {
   "cell_type": "code",
   "execution_count": 20,
   "metadata": {},
   "outputs": [
    {
     "name": "stderr",
     "output_type": "stream",
     "text": [
      "C:\\Users\\Hassan\\AppData\\Roaming\\Python\\Python36\\site-packages\\networkx\\drawing\\nx_pylab.py:611: MatplotlibDeprecationWarning: isinstance(..., numbers.Number)\n",
      "  if cb.is_numlike(alpha):\n"
     ]
    },
    {
     "data": {
      "text/plain": [
       "Text(0.89125346, -0.7, 'Asif')"
      ]
     },
     "execution_count": 20,
     "metadata": {},
     "output_type": "execute_result"
    },
    {
     "data": {
      "image/png": "[encoded data removed]",
      "text/plain": [
       "<Figure size 720x576 with 1 Axes>"
      ]
     },
     "metadata": {},
     "output_type": "display_data"
    }
   ],
   "source": [
    "#first visualization\n",
    "plt.figure(figsize=(10,8))\n",
    "plt.title('Visualization of Social Network', fontsize=20) #adding a title\n",
    "pos = nx.circular_layout(G) #specifying a circular layout\n",
    "nx.draw_networkx(G, pos, alpha=0.7, with_labels=False, edge_color='.4')\n",
    "plt.axis('off') #turning off the axis\n",
    "\n",
    "#adding the name labels to the nodes\n",
    "plt.text(1.12,0.07,s='Hassan', fontsize=14, bbox=dict(facecolor='red', alpha=0.5),horizontalalignment='center')\n",
    "plt.text(0.87,0.64,s='Tariq', fontsize=14, bbox=dict(facecolor='red', alpha=0.5),horizontalalignment='center')\n",
    "plt.text(0.54, 0.9,s='Asad', fontsize=14, bbox=dict(facecolor='red', alpha=0.5),horizontalalignment='center')\n",
    "plt.text(0, 1,s='Sammiya', fontsize=14, bbox=dict(facecolor='red', alpha=0.5),horizontalalignment='center')\n",
    "plt.text(-0.654, 0.85,s='Hafsa', fontsize=14, bbox=dict(facecolor='red', alpha=0.5),horizontalalignment='center')\n",
    "plt.text(-1.1, 0.28173262,s='Nadia', fontsize=14, bbox=dict(facecolor='red', alpha=0.5),horizontalalignment='center')\n",
    "plt.text(-1.1, -0.3,s='Zaheer', fontsize=14, bbox=dict(facecolor='red', alpha=0.5),horizontalalignment='center')\n",
    "plt.text(-0.65486072, -0.89,s='Mayeda', fontsize=14, bbox=dict(facecolor='red', alpha=0.5),horizontalalignment='center')\n",
    "plt.text(-0.14231501, -1.13,s='Saleem', fontsize=14, bbox=dict(facecolor='red', alpha=0.5),horizontalalignment='center')\n",
    "plt.text(0.41541511, -1.06,s='Khalid', fontsize=14, bbox=dict(facecolor='red', alpha=0.5),horizontalalignment='center')\n",
    "plt.text(0.89125346, -0.7,s='Asif', fontsize=14, bbox=dict(facecolor='red', alpha=0.5),horizontalalignment='center')"
   ]
  },
  {
   "cell_type": "markdown",
   "metadata": {},
   "source": [
    "# 5)- Network exploring"
   ]
  },
  {
   "cell_type": "code",
   "execution_count": 21,
   "metadata": {},
   "outputs": [
    {
     "data": {
      "text/plain": [
       "2"
      ]
     },
     "execution_count": 21,
     "metadata": {},
     "output_type": "execute_result"
    }
   ],
   "source": [
    "# How many people are connected to Obama\n",
    "nx.degree(G,\"Hafsa\")"
   ]
  },
  {
   "cell_type": "code",
   "execution_count": 22,
   "metadata": {},
   "outputs": [
    {
     "data": {
      "text/plain": [
       "3"
      ]
     },
     "execution_count": 22,
     "metadata": {},
     "output_type": "execute_result"
    }
   ],
   "source": [
    "nx.degree(G,\"Hassan\")"
   ]
  },
  {
   "cell_type": "code",
   "execution_count": 23,
   "metadata": {},
   "outputs": [
    {
     "data": {
      "text/plain": [
       "2"
      ]
     },
     "execution_count": 23,
     "metadata": {},
     "output_type": "execute_result"
    }
   ],
   "source": [
    "nx.degree(G,\"Zaheer\")"
   ]
  },
  {
   "cell_type": "code",
   "execution_count": 24,
   "metadata": {},
   "outputs": [
    {
     "data": {
      "text/plain": [
       "['Hafsa', 'Nadia', 'Tariq', 'Hassan']"
      ]
     },
     "execution_count": 24,
     "metadata": {},
     "output_type": "execute_result"
    }
   ],
   "source": [
    "# What is the shortest connection between Obama and Bill Clinton\n",
    "nx.shortest_path(G,\"Hafsa\",\"Hassan\")"
   ]
  },
  {
   "cell_type": "code",
   "execution_count": 25,
   "metadata": {},
   "outputs": [
    {
     "data": {
      "text/plain": [
       "['Zaheer', 'Tariq']"
      ]
     },
     "execution_count": 25,
     "metadata": {},
     "output_type": "execute_result"
    }
   ],
   "source": [
    "nx.shortest_path(G,\"Zaheer\",\"Tariq\")"
   ]
  },
  {
   "cell_type": "markdown",
   "metadata": {},
   "source": [
    "# 6)- Creating dataframe from given network"
   ]
  },
  {
   "cell_type": "code",
   "execution_count": 26,
   "metadata": {},
   "outputs": [
    {
     "name": "stdout",
     "output_type": "stream",
     "text": [
      "Name: \n",
      "Type: Graph\n",
      "Number of nodes: 12\n",
      "Number of edges: 14\n",
      "Average degree:   2.3333\n"
     ]
    }
   ],
   "source": [
    "#printing some general info \n",
    "print(nx.info(G))"
   ]
  },
  {
   "cell_type": "code",
   "execution_count": 27,
   "metadata": {},
   "outputs": [],
   "source": [
    "#creating df from graph\n",
    "df = pd.DataFrame(index=G.nodes())"
   ]
  },
  {
   "cell_type": "code",
   "execution_count": 28,
   "metadata": {},
   "outputs": [
    {
     "name": "stdout",
     "output_type": "stream",
     "text": [
      "Empty DataFrame\n",
      "Columns: []\n",
      "Index: [Hassan, Tariq, Asad, Sammiya, Hafsa, Nadia, Zaheer, Saleem, Mayeda, Nadeem, Khalid, Asif]\n"
     ]
    }
   ],
   "source": [
    "print(df)"
   ]
  },
  {
   "cell_type": "code",
   "execution_count": 29,
   "metadata": {},
   "outputs": [],
   "source": [
    "#adding centrality characteristics of nodes\n",
    "df['clustering'] = pd.Series(nx.clustering(G))\n",
    "df['degree'] = pd.Series(dict(G.degree()).values())[0]\n",
    "df['degree_centrality'] = pd.Series(nx.degree_centrality(G))\n",
    "df['closeness'] = pd.Series(nx.closeness_centrality(G))\n",
    "df['betweeness'] = pd.Series(nx.betweenness_centrality(G, normalized=True))\n",
    "df['pr'] = pd.Series(nx.pagerank(G))"
   ]
  },
  {
   "cell_type": "code",
   "execution_count": 30,
   "metadata": {},
   "outputs": [
    {
     "data": {
      "text/html": [
       "<div>\n",
       "<style scoped>\n",
       "    .dataframe tbody tr th:only-of-type {\n",
       "        vertical-align: middle;\n",
       "    }\n",
       "\n",
       "    .dataframe tbody tr th {\n",
       "        vertical-align: top;\n",
       "    }\n",
       "\n",
       "    .dataframe thead th {\n",
       "        text-align: right;\n",
       "    }\n",
       "</style>\n",
       "<table border=\"1\" class=\"dataframe\">\n",
       "  <thead>\n",
       "    <tr style=\"text-align: right;\">\n",
       "      <th></th>\n",
       "      <th>clustering</th>\n",
       "      <th>degree</th>\n",
       "      <th>degree_centrality</th>\n",
       "      <th>closeness</th>\n",
       "      <th>betweeness</th>\n",
       "      <th>pr</th>\n",
       "    </tr>\n",
       "  </thead>\n",
       "  <tbody>\n",
       "    <tr>\n",
       "      <th>Hassan</th>\n",
       "      <td>0.000000</td>\n",
       "      <td>3</td>\n",
       "      <td>0.272727</td>\n",
       "      <td>0.423077</td>\n",
       "      <td>0.327273</td>\n",
       "      <td>0.111064</td>\n",
       "    </tr>\n",
       "    <tr>\n",
       "      <th>Tariq</th>\n",
       "      <td>0.333333</td>\n",
       "      <td>3</td>\n",
       "      <td>0.272727</td>\n",
       "      <td>0.440000</td>\n",
       "      <td>0.263636</td>\n",
       "      <td>0.103244</td>\n",
       "    </tr>\n",
       "    <tr>\n",
       "      <th>Asad</th>\n",
       "      <td>0.000000</td>\n",
       "      <td>2</td>\n",
       "      <td>0.181818</td>\n",
       "      <td>0.392857</td>\n",
       "      <td>0.190909</td>\n",
       "      <td>0.075147</td>\n",
       "    </tr>\n",
       "    <tr>\n",
       "      <th>Sammiya</th>\n",
       "      <td>0.000000</td>\n",
       "      <td>1</td>\n",
       "      <td>0.090909</td>\n",
       "      <td>0.305556</td>\n",
       "      <td>0.000000</td>\n",
       "      <td>0.043968</td>\n",
       "    </tr>\n",
       "    <tr>\n",
       "      <th>Hafsa</th>\n",
       "      <td>0.000000</td>\n",
       "      <td>2</td>\n",
       "      <td>0.181818</td>\n",
       "      <td>0.423077</td>\n",
       "      <td>0.245455</td>\n",
       "      <td>0.070283</td>\n",
       "    </tr>\n",
       "    <tr>\n",
       "      <th>Nadia</th>\n",
       "      <td>0.166667</td>\n",
       "      <td>4</td>\n",
       "      <td>0.363636</td>\n",
       "      <td>0.458333</td>\n",
       "      <td>0.381818</td>\n",
       "      <td>0.137152</td>\n",
       "    </tr>\n",
       "    <tr>\n",
       "      <th>Zaheer</th>\n",
       "      <td>1.000000</td>\n",
       "      <td>2</td>\n",
       "      <td>0.181818</td>\n",
       "      <td>0.379310</td>\n",
       "      <td>0.000000</td>\n",
       "      <td>0.070897</td>\n",
       "    </tr>\n",
       "    <tr>\n",
       "      <th>Saleem</th>\n",
       "      <td>0.000000</td>\n",
       "      <td>1</td>\n",
       "      <td>0.090909</td>\n",
       "      <td>0.323529</td>\n",
       "      <td>0.000000</td>\n",
       "      <td>0.041645</td>\n",
       "    </tr>\n",
       "    <tr>\n",
       "      <th>Mayeda</th>\n",
       "      <td>0.000000</td>\n",
       "      <td>2</td>\n",
       "      <td>0.181818</td>\n",
       "      <td>0.366667</td>\n",
       "      <td>0.163636</td>\n",
       "      <td>0.073365</td>\n",
       "    </tr>\n",
       "    <tr>\n",
       "      <th>Nadeem</th>\n",
       "      <td>0.333333</td>\n",
       "      <td>3</td>\n",
       "      <td>0.272727</td>\n",
       "      <td>0.392857</td>\n",
       "      <td>0.218182</td>\n",
       "      <td>0.101075</td>\n",
       "    </tr>\n",
       "    <tr>\n",
       "      <th>Khalid</th>\n",
       "      <td>0.333333</td>\n",
       "      <td>3</td>\n",
       "      <td>0.272727</td>\n",
       "      <td>0.379310</td>\n",
       "      <td>0.172727</td>\n",
       "      <td>0.102095</td>\n",
       "    </tr>\n",
       "    <tr>\n",
       "      <th>Asif</th>\n",
       "      <td>1.000000</td>\n",
       "      <td>2</td>\n",
       "      <td>0.181818</td>\n",
       "      <td>0.333333</td>\n",
       "      <td>0.000000</td>\n",
       "      <td>0.070065</td>\n",
       "    </tr>\n",
       "  </tbody>\n",
       "</table>\n",
       "</div>"
      ],
      "text/plain": [
       "         clustering  degree  degree_centrality  closeness  betweeness  \\\n",
       "Hassan     0.000000       3           0.272727   0.423077    0.327273   \n",
       "Tariq      0.333333       3           0.272727   0.440000    0.263636   \n",
       "Asad       0.000000       2           0.181818   0.392857    0.190909   \n",
       "Sammiya    0.000000       1           0.090909   0.305556    0.000000   \n",
       "Hafsa      0.000000       2           0.181818   0.423077    0.245455   \n",
       "Nadia      0.166667       4           0.363636   0.458333    0.381818   \n",
       "Zaheer     1.000000       2           0.181818   0.379310    0.000000   \n",
       "Saleem     0.000000       1           0.090909   0.323529    0.000000   \n",
       "Mayeda     0.000000       2           0.181818   0.366667    0.163636   \n",
       "Nadeem     0.333333       3           0.272727   0.392857    0.218182   \n",
       "Khalid     0.333333       3           0.272727   0.379310    0.172727   \n",
       "Asif       1.000000       2           0.181818   0.333333    0.000000   \n",
       "\n",
       "               pr  \n",
       "Hassan   0.111064  \n",
       "Tariq    0.103244  \n",
       "Asad     0.075147  \n",
       "Sammiya  0.043968  \n",
       "Hafsa    0.070283  \n",
       "Nadia    0.137152  \n",
       "Zaheer   0.070897  \n",
       "Saleem   0.041645  \n",
       "Mayeda   0.073365  \n",
       "Nadeem   0.101075  \n",
       "Khalid   0.102095  \n",
       "Asif     0.070065  "
      ]
     },
     "execution_count": 30,
     "metadata": {},
     "output_type": "execute_result"
    }
   ],
   "source": [
    "df"
   ]
  },
  {
   "cell_type": "markdown",
   "metadata": {},
   "source": [
    "# 7)- Link Prediction\n",
    "\n",
    "Scores for Link Prediction"
   ]
  },
  {
   "cell_type": "code",
   "execution_count": 31,
   "metadata": {},
   "outputs": [],
   "source": [
    "cn = [(e[0], e[1], len(list(nx.common_neighbors(G,e[0], e[1])))) for e in nx.non_edges(G)]"
   ]
  },
  {
   "cell_type": "code",
   "execution_count": 32,
   "metadata": {},
   "outputs": [
    {
     "data": {
      "text/plain": [
       "52"
      ]
     },
     "execution_count": 32,
     "metadata": {},
     "output_type": "execute_result"
    }
   ],
   "source": [
    "len(cn)"
   ]
  },
  {
   "cell_type": "code",
   "execution_count": 33,
   "metadata": {},
   "outputs": [],
   "source": [
    "jc = list(nx.jaccard_coefficient(G))"
   ]
  },
  {
   "cell_type": "code",
   "execution_count": 34,
   "metadata": {},
   "outputs": [
    {
     "data": {
      "text/plain": [
       "52"
      ]
     },
     "execution_count": 34,
     "metadata": {},
     "output_type": "execute_result"
    }
   ],
   "source": [
    "len(jc)"
   ]
  },
  {
   "cell_type": "code",
   "execution_count": 35,
   "metadata": {},
   "outputs": [],
   "source": [
    "ra = list(nx.resource_allocation_index(G))"
   ]
  },
  {
   "cell_type": "code",
   "execution_count": 36,
   "metadata": {},
   "outputs": [
    {
     "data": {
      "text/plain": [
       "52"
      ]
     },
     "execution_count": 36,
     "metadata": {},
     "output_type": "execute_result"
    }
   ],
   "source": [
    "len(ra)"
   ]
  },
  {
   "cell_type": "code",
   "execution_count": 37,
   "metadata": {},
   "outputs": [],
   "source": [
    "aa = list(nx.adamic_adar_index(G))"
   ]
  },
  {
   "cell_type": "code",
   "execution_count": 38,
   "metadata": {},
   "outputs": [
    {
     "data": {
      "text/plain": [
       "52"
      ]
     },
     "execution_count": 38,
     "metadata": {},
     "output_type": "execute_result"
    }
   ],
   "source": [
    "len(aa)"
   ]
  },
  {
   "cell_type": "code",
   "execution_count": 39,
   "metadata": {},
   "outputs": [],
   "source": [
    "pa = list(nx.preferential_attachment(G))"
   ]
  },
  {
   "cell_type": "code",
   "execution_count": 40,
   "metadata": {},
   "outputs": [
    {
     "data": {
      "text/plain": [
       "52"
      ]
     },
     "execution_count": 40,
     "metadata": {},
     "output_type": "execute_result"
    }
   ],
   "source": [
    "len(pa)"
   ]
  },
  {
   "cell_type": "code",
   "execution_count": 41,
   "metadata": {},
   "outputs": [],
   "source": [
    "#extracting index from score results\n",
    "index = pd.Series([(e[0], e[1]) for e in cn])"
   ]
  },
  {
   "cell_type": "code",
   "execution_count": 42,
   "metadata": {},
   "outputs": [
    {
     "data": {
      "text/plain": [
       "0       (Asad, Sammiya)\n",
       "1        (Asad, Nadeem)\n",
       "2        (Asad, Saleem)\n",
       "3        (Asad, Khalid)\n",
       "4          (Asad, Asif)\n",
       "5        (Asad, Zaheer)\n",
       "6         (Asad, Nadia)\n",
       "7         (Asad, Tariq)\n",
       "8         (Asad, Hafsa)\n",
       "9      (Sammiya, Tariq)\n",
       "10    (Sammiya, Nadeem)\n",
       "11    (Sammiya, Saleem)\n",
       "12    (Sammiya, Khalid)\n",
       "13      (Sammiya, Asif)\n",
       "14    (Sammiya, Zaheer)\n",
       "15     (Sammiya, Nadia)\n",
       "16    (Sammiya, Mayeda)\n",
       "17     (Sammiya, Hafsa)\n",
       "18      (Nadeem, Tariq)\n",
       "19     (Nadeem, Hassan)\n",
       "20     (Nadeem, Saleem)\n",
       "21     (Nadeem, Zaheer)\n",
       "22      (Nadeem, Nadia)\n",
       "23     (Nadeem, Mayeda)\n",
       "24     (Hassan, Saleem)\n",
       "25     (Hassan, Khalid)\n",
       "26       (Hassan, Asif)\n",
       "27     (Hassan, Zaheer)\n",
       "28      (Hassan, Nadia)\n",
       "29     (Hassan, Mayeda)\n",
       "30      (Hassan, Hafsa)\n",
       "31     (Mayeda, Saleem)\n",
       "32       (Mayeda, Asif)\n",
       "33     (Mayeda, Zaheer)\n",
       "34      (Mayeda, Nadia)\n",
       "35      (Mayeda, Tariq)\n",
       "36      (Mayeda, Hafsa)\n",
       "37     (Saleem, Khalid)\n",
       "38       (Saleem, Asif)\n",
       "39     (Saleem, Zaheer)\n",
       "40      (Saleem, Tariq)\n",
       "41      (Saleem, Hafsa)\n",
       "42      (Khalid, Tariq)\n",
       "43      (Khalid, Hafsa)\n",
       "44     (Khalid, Zaheer)\n",
       "45      (Khalid, Nadia)\n",
       "46        (Asif, Tariq)\n",
       "47        (Asif, Hafsa)\n",
       "48       (Asif, Zaheer)\n",
       "49        (Asif, Nadia)\n",
       "50      (Zaheer, Hafsa)\n",
       "51       (Tariq, Hafsa)\n",
       "dtype: object"
      ]
     },
     "execution_count": 42,
     "metadata": {},
     "output_type": "execute_result"
    }
   ],
   "source": [
    "index"
   ]
  },
  {
   "cell_type": "code",
   "execution_count": 43,
   "metadata": {},
   "outputs": [],
   "source": [
    "#initializing new empty df\n",
    "df = pd.DataFrame()"
   ]
  },
  {
   "cell_type": "code",
   "execution_count": 44,
   "metadata": {},
   "outputs": [],
   "source": [
    "#extracting score results and transforming them into a pandas series\n",
    "cn = pd.Series([(e[2]) for e in cn])\n",
    "jc = pd.Series([(e[2]) for e in jc])\n",
    "ra = pd.Series([(e[2]) for e in ra])\n",
    "aa = pd.Series([(e[2]) for e in aa])\n",
    "pa = pd.Series([(e[2]) for e in pa])"
   ]
  },
  {
   "cell_type": "code",
   "execution_count": 45,
   "metadata": {},
   "outputs": [],
   "source": [
    "#adding scores to df\n",
    "df['common_neigh'] = cn\n",
    "df['jaccard'] = jc\n",
    "df['resource_alloc'] = ra\n",
    "df['adamic_adar'] = aa\n",
    "df['pref_attachment'] = pa"
   ]
  },
  {
   "cell_type": "code",
   "execution_count": 46,
   "metadata": {},
   "outputs": [
    {
     "data": {
      "text/html": [
       "<div>\n",
       "<style scoped>\n",
       "    .dataframe tbody tr th:only-of-type {\n",
       "        vertical-align: middle;\n",
       "    }\n",
       "\n",
       "    .dataframe tbody tr th {\n",
       "        vertical-align: top;\n",
       "    }\n",
       "\n",
       "    .dataframe thead th {\n",
       "        text-align: right;\n",
       "    }\n",
       "</style>\n",
       "<table border=\"1\" class=\"dataframe\">\n",
       "  <thead>\n",
       "    <tr style=\"text-align: right;\">\n",
       "      <th></th>\n",
       "      <th>common_neigh</th>\n",
       "      <th>jaccard</th>\n",
       "      <th>resource_alloc</th>\n",
       "      <th>adamic_adar</th>\n",
       "      <th>pref_attachment</th>\n",
       "    </tr>\n",
       "  </thead>\n",
       "  <tbody>\n",
       "    <tr>\n",
       "      <th>0</th>\n",
       "      <td>1</td>\n",
       "      <td>0.500000</td>\n",
       "      <td>0.333333</td>\n",
       "      <td>0.910239</td>\n",
       "      <td>2</td>\n",
       "    </tr>\n",
       "    <tr>\n",
       "      <th>1</th>\n",
       "      <td>0</td>\n",
       "      <td>0.000000</td>\n",
       "      <td>0.000000</td>\n",
       "      <td>0.000000</td>\n",
       "      <td>6</td>\n",
       "    </tr>\n",
       "    <tr>\n",
       "      <th>2</th>\n",
       "      <td>0</td>\n",
       "      <td>0.000000</td>\n",
       "      <td>0.000000</td>\n",
       "      <td>0.000000</td>\n",
       "      <td>2</td>\n",
       "    </tr>\n",
       "    <tr>\n",
       "      <th>3</th>\n",
       "      <td>1</td>\n",
       "      <td>0.250000</td>\n",
       "      <td>0.500000</td>\n",
       "      <td>1.442695</td>\n",
       "      <td>6</td>\n",
       "    </tr>\n",
       "    <tr>\n",
       "      <th>4</th>\n",
       "      <td>0</td>\n",
       "      <td>0.000000</td>\n",
       "      <td>0.000000</td>\n",
       "      <td>0.000000</td>\n",
       "      <td>4</td>\n",
       "    </tr>\n",
       "    <tr>\n",
       "      <th>5</th>\n",
       "      <td>0</td>\n",
       "      <td>0.000000</td>\n",
       "      <td>0.000000</td>\n",
       "      <td>0.000000</td>\n",
       "      <td>4</td>\n",
       "    </tr>\n",
       "    <tr>\n",
       "      <th>6</th>\n",
       "      <td>0</td>\n",
       "      <td>0.000000</td>\n",
       "      <td>0.000000</td>\n",
       "      <td>0.000000</td>\n",
       "      <td>8</td>\n",
       "    </tr>\n",
       "    <tr>\n",
       "      <th>7</th>\n",
       "      <td>1</td>\n",
       "      <td>0.250000</td>\n",
       "      <td>0.333333</td>\n",
       "      <td>0.910239</td>\n",
       "      <td>6</td>\n",
       "    </tr>\n",
       "    <tr>\n",
       "      <th>8</th>\n",
       "      <td>0</td>\n",
       "      <td>0.000000</td>\n",
       "      <td>0.000000</td>\n",
       "      <td>0.000000</td>\n",
       "      <td>4</td>\n",
       "    </tr>\n",
       "    <tr>\n",
       "      <th>9</th>\n",
       "      <td>1</td>\n",
       "      <td>0.333333</td>\n",
       "      <td>0.333333</td>\n",
       "      <td>0.910239</td>\n",
       "      <td>3</td>\n",
       "    </tr>\n",
       "    <tr>\n",
       "      <th>10</th>\n",
       "      <td>0</td>\n",
       "      <td>0.000000</td>\n",
       "      <td>0.000000</td>\n",
       "      <td>0.000000</td>\n",
       "      <td>3</td>\n",
       "    </tr>\n",
       "    <tr>\n",
       "      <th>11</th>\n",
       "      <td>0</td>\n",
       "      <td>0.000000</td>\n",
       "      <td>0.000000</td>\n",
       "      <td>0.000000</td>\n",
       "      <td>1</td>\n",
       "    </tr>\n",
       "    <tr>\n",
       "      <th>12</th>\n",
       "      <td>0</td>\n",
       "      <td>0.000000</td>\n",
       "      <td>0.000000</td>\n",
       "      <td>0.000000</td>\n",
       "      <td>3</td>\n",
       "    </tr>\n",
       "    <tr>\n",
       "      <th>13</th>\n",
       "      <td>0</td>\n",
       "      <td>0.000000</td>\n",
       "      <td>0.000000</td>\n",
       "      <td>0.000000</td>\n",
       "      <td>2</td>\n",
       "    </tr>\n",
       "    <tr>\n",
       "      <th>14</th>\n",
       "      <td>0</td>\n",
       "      <td>0.000000</td>\n",
       "      <td>0.000000</td>\n",
       "      <td>0.000000</td>\n",
       "      <td>2</td>\n",
       "    </tr>\n",
       "    <tr>\n",
       "      <th>15</th>\n",
       "      <td>0</td>\n",
       "      <td>0.000000</td>\n",
       "      <td>0.000000</td>\n",
       "      <td>0.000000</td>\n",
       "      <td>4</td>\n",
       "    </tr>\n",
       "    <tr>\n",
       "      <th>16</th>\n",
       "      <td>0</td>\n",
       "      <td>0.000000</td>\n",
       "      <td>0.000000</td>\n",
       "      <td>0.000000</td>\n",
       "      <td>2</td>\n",
       "    </tr>\n",
       "    <tr>\n",
       "      <th>17</th>\n",
       "      <td>0</td>\n",
       "      <td>0.000000</td>\n",
       "      <td>0.000000</td>\n",
       "      <td>0.000000</td>\n",
       "      <td>2</td>\n",
       "    </tr>\n",
       "    <tr>\n",
       "      <th>18</th>\n",
       "      <td>0</td>\n",
       "      <td>0.000000</td>\n",
       "      <td>0.000000</td>\n",
       "      <td>0.000000</td>\n",
       "      <td>9</td>\n",
       "    </tr>\n",
       "    <tr>\n",
       "      <th>19</th>\n",
       "      <td>0</td>\n",
       "      <td>0.000000</td>\n",
       "      <td>0.000000</td>\n",
       "      <td>0.000000</td>\n",
       "      <td>9</td>\n",
       "    </tr>\n",
       "    <tr>\n",
       "      <th>20</th>\n",
       "      <td>0</td>\n",
       "      <td>0.000000</td>\n",
       "      <td>0.000000</td>\n",
       "      <td>0.000000</td>\n",
       "      <td>3</td>\n",
       "    </tr>\n",
       "    <tr>\n",
       "      <th>21</th>\n",
       "      <td>0</td>\n",
       "      <td>0.000000</td>\n",
       "      <td>0.000000</td>\n",
       "      <td>0.000000</td>\n",
       "      <td>6</td>\n",
       "    </tr>\n",
       "    <tr>\n",
       "      <th>22</th>\n",
       "      <td>1</td>\n",
       "      <td>0.166667</td>\n",
       "      <td>0.500000</td>\n",
       "      <td>1.442695</td>\n",
       "      <td>12</td>\n",
       "    </tr>\n",
       "    <tr>\n",
       "      <th>23</th>\n",
       "      <td>1</td>\n",
       "      <td>0.250000</td>\n",
       "      <td>0.333333</td>\n",
       "      <td>0.910239</td>\n",
       "      <td>6</td>\n",
       "    </tr>\n",
       "    <tr>\n",
       "      <th>24</th>\n",
       "      <td>0</td>\n",
       "      <td>0.000000</td>\n",
       "      <td>0.000000</td>\n",
       "      <td>0.000000</td>\n",
       "      <td>3</td>\n",
       "    </tr>\n",
       "    <tr>\n",
       "      <th>25</th>\n",
       "      <td>0</td>\n",
       "      <td>0.000000</td>\n",
       "      <td>0.000000</td>\n",
       "      <td>0.000000</td>\n",
       "      <td>9</td>\n",
       "    </tr>\n",
       "    <tr>\n",
       "      <th>26</th>\n",
       "      <td>0</td>\n",
       "      <td>0.000000</td>\n",
       "      <td>0.000000</td>\n",
       "      <td>0.000000</td>\n",
       "      <td>6</td>\n",
       "    </tr>\n",
       "    <tr>\n",
       "      <th>27</th>\n",
       "      <td>1</td>\n",
       "      <td>0.250000</td>\n",
       "      <td>0.333333</td>\n",
       "      <td>0.910239</td>\n",
       "      <td>6</td>\n",
       "    </tr>\n",
       "    <tr>\n",
       "      <th>28</th>\n",
       "      <td>1</td>\n",
       "      <td>0.166667</td>\n",
       "      <td>0.333333</td>\n",
       "      <td>0.910239</td>\n",
       "      <td>12</td>\n",
       "    </tr>\n",
       "    <tr>\n",
       "      <th>29</th>\n",
       "      <td>1</td>\n",
       "      <td>0.250000</td>\n",
       "      <td>0.500000</td>\n",
       "      <td>1.442695</td>\n",
       "      <td>6</td>\n",
       "    </tr>\n",
       "    <tr>\n",
       "      <th>30</th>\n",
       "      <td>0</td>\n",
       "      <td>0.000000</td>\n",
       "      <td>0.000000</td>\n",
       "      <td>0.000000</td>\n",
       "      <td>6</td>\n",
       "    </tr>\n",
       "    <tr>\n",
       "      <th>31</th>\n",
       "      <td>0</td>\n",
       "      <td>0.000000</td>\n",
       "      <td>0.000000</td>\n",
       "      <td>0.000000</td>\n",
       "      <td>2</td>\n",
       "    </tr>\n",
       "    <tr>\n",
       "      <th>32</th>\n",
       "      <td>1</td>\n",
       "      <td>0.333333</td>\n",
       "      <td>0.333333</td>\n",
       "      <td>0.910239</td>\n",
       "      <td>4</td>\n",
       "    </tr>\n",
       "    <tr>\n",
       "      <th>33</th>\n",
       "      <td>0</td>\n",
       "      <td>0.000000</td>\n",
       "      <td>0.000000</td>\n",
       "      <td>0.000000</td>\n",
       "      <td>4</td>\n",
       "    </tr>\n",
       "    <tr>\n",
       "      <th>34</th>\n",
       "      <td>0</td>\n",
       "      <td>0.000000</td>\n",
       "      <td>0.000000</td>\n",
       "      <td>0.000000</td>\n",
       "      <td>8</td>\n",
       "    </tr>\n",
       "    <tr>\n",
       "      <th>35</th>\n",
       "      <td>0</td>\n",
       "      <td>0.000000</td>\n",
       "      <td>0.000000</td>\n",
       "      <td>0.000000</td>\n",
       "      <td>6</td>\n",
       "    </tr>\n",
       "    <tr>\n",
       "      <th>36</th>\n",
       "      <td>0</td>\n",
       "      <td>0.000000</td>\n",
       "      <td>0.000000</td>\n",
       "      <td>0.000000</td>\n",
       "      <td>4</td>\n",
       "    </tr>\n",
       "    <tr>\n",
       "      <th>37</th>\n",
       "      <td>0</td>\n",
       "      <td>0.000000</td>\n",
       "      <td>0.000000</td>\n",
       "      <td>0.000000</td>\n",
       "      <td>3</td>\n",
       "    </tr>\n",
       "    <tr>\n",
       "      <th>38</th>\n",
       "      <td>0</td>\n",
       "      <td>0.000000</td>\n",
       "      <td>0.000000</td>\n",
       "      <td>0.000000</td>\n",
       "      <td>2</td>\n",
       "    </tr>\n",
       "    <tr>\n",
       "      <th>39</th>\n",
       "      <td>1</td>\n",
       "      <td>0.500000</td>\n",
       "      <td>0.250000</td>\n",
       "      <td>0.721348</td>\n",
       "      <td>2</td>\n",
       "    </tr>\n",
       "    <tr>\n",
       "      <th>40</th>\n",
       "      <td>1</td>\n",
       "      <td>0.333333</td>\n",
       "      <td>0.250000</td>\n",
       "      <td>0.721348</td>\n",
       "      <td>3</td>\n",
       "    </tr>\n",
       "    <tr>\n",
       "      <th>41</th>\n",
       "      <td>1</td>\n",
       "      <td>0.500000</td>\n",
       "      <td>0.250000</td>\n",
       "      <td>0.721348</td>\n",
       "      <td>2</td>\n",
       "    </tr>\n",
       "    <tr>\n",
       "      <th>42</th>\n",
       "      <td>0</td>\n",
       "      <td>0.000000</td>\n",
       "      <td>0.000000</td>\n",
       "      <td>0.000000</td>\n",
       "      <td>9</td>\n",
       "    </tr>\n",
       "    <tr>\n",
       "      <th>43</th>\n",
       "      <td>1</td>\n",
       "      <td>0.250000</td>\n",
       "      <td>0.333333</td>\n",
       "      <td>0.910239</td>\n",
       "      <td>6</td>\n",
       "    </tr>\n",
       "    <tr>\n",
       "      <th>44</th>\n",
       "      <td>0</td>\n",
       "      <td>0.000000</td>\n",
       "      <td>0.000000</td>\n",
       "      <td>0.000000</td>\n",
       "      <td>6</td>\n",
       "    </tr>\n",
       "    <tr>\n",
       "      <th>45</th>\n",
       "      <td>0</td>\n",
       "      <td>0.000000</td>\n",
       "      <td>0.000000</td>\n",
       "      <td>0.000000</td>\n",
       "      <td>12</td>\n",
       "    </tr>\n",
       "    <tr>\n",
       "      <th>46</th>\n",
       "      <td>0</td>\n",
       "      <td>0.000000</td>\n",
       "      <td>0.000000</td>\n",
       "      <td>0.000000</td>\n",
       "      <td>6</td>\n",
       "    </tr>\n",
       "    <tr>\n",
       "      <th>47</th>\n",
       "      <td>1</td>\n",
       "      <td>0.333333</td>\n",
       "      <td>0.333333</td>\n",
       "      <td>0.910239</td>\n",
       "      <td>4</td>\n",
       "    </tr>\n",
       "    <tr>\n",
       "      <th>48</th>\n",
       "      <td>0</td>\n",
       "      <td>0.000000</td>\n",
       "      <td>0.000000</td>\n",
       "      <td>0.000000</td>\n",
       "      <td>4</td>\n",
       "    </tr>\n",
       "    <tr>\n",
       "      <th>49</th>\n",
       "      <td>0</td>\n",
       "      <td>0.000000</td>\n",
       "      <td>0.000000</td>\n",
       "      <td>0.000000</td>\n",
       "      <td>8</td>\n",
       "    </tr>\n",
       "    <tr>\n",
       "      <th>50</th>\n",
       "      <td>1</td>\n",
       "      <td>0.333333</td>\n",
       "      <td>0.250000</td>\n",
       "      <td>0.721348</td>\n",
       "      <td>4</td>\n",
       "    </tr>\n",
       "    <tr>\n",
       "      <th>51</th>\n",
       "      <td>1</td>\n",
       "      <td>0.250000</td>\n",
       "      <td>0.250000</td>\n",
       "      <td>0.721348</td>\n",
       "      <td>6</td>\n",
       "    </tr>\n",
       "  </tbody>\n",
       "</table>\n",
       "</div>"
      ],
      "text/plain": [
       "    common_neigh   jaccard  resource_alloc  adamic_adar  pref_attachment\n",
       "0              1  0.500000        0.333333     0.910239                2\n",
       "1              0  0.000000        0.000000     0.000000                6\n",
       "2              0  0.000000        0.000000     0.000000                2\n",
       "3              1  0.250000        0.500000     1.442695                6\n",
       "4              0  0.000000        0.000000     0.000000                4\n",
       "5              0  0.000000        0.000000     0.000000                4\n",
       "6              0  0.000000        0.000000     0.000000                8\n",
       "7              1  0.250000        0.333333     0.910239                6\n",
       "8              0  0.000000        0.000000     0.000000                4\n",
       "9              1  0.333333        0.333333     0.910239                3\n",
       "10             0  0.000000        0.000000     0.000000                3\n",
       "11             0  0.000000        0.000000     0.000000                1\n",
       "12             0  0.000000        0.000000     0.000000                3\n",
       "13             0  0.000000        0.000000     0.000000                2\n",
       "14             0  0.000000        0.000000     0.000000                2\n",
       "15             0  0.000000        0.000000     0.000000                4\n",
       "16             0  0.000000        0.000000     0.000000                2\n",
       "17             0  0.000000        0.000000     0.000000                2\n",
       "18             0  0.000000        0.000000     0.000000                9\n",
       "19             0  0.000000        0.000000     0.000000                9\n",
       "20             0  0.000000        0.000000     0.000000                3\n",
       "21             0  0.000000        0.000000     0.000000                6\n",
       "22             1  0.166667        0.500000     1.442695               12\n",
       "23             1  0.250000        0.333333     0.910239                6\n",
       "24             0  0.000000        0.000000     0.000000                3\n",
       "25             0  0.000000        0.000000     0.000000                9\n",
       "26             0  0.000000        0.000000     0.000000                6\n",
       "27             1  0.250000        0.333333     0.910239                6\n",
       "28             1  0.166667        0.333333     0.910239               12\n",
       "29             1  0.250000        0.500000     1.442695                6\n",
       "30             0  0.000000        0.000000     0.000000                6\n",
       "31             0  0.000000        0.000000     0.000000                2\n",
       "32             1  0.333333        0.333333     0.910239                4\n",
       "33             0  0.000000        0.000000     0.000000                4\n",
       "34             0  0.000000        0.000000     0.000000                8\n",
       "35             0  0.000000        0.000000     0.000000                6\n",
       "36             0  0.000000        0.000000     0.000000                4\n",
       "37             0  0.000000        0.000000     0.000000                3\n",
       "38             0  0.000000        0.000000     0.000000                2\n",
       "39             1  0.500000        0.250000     0.721348                2\n",
       "40             1  0.333333        0.250000     0.721348                3\n",
       "41             1  0.500000        0.250000     0.721348                2\n",
       "42             0  0.000000        0.000000     0.000000                9\n",
       "43             1  0.250000        0.333333     0.910239                6\n",
       "44             0  0.000000        0.000000     0.000000                6\n",
       "45             0  0.000000        0.000000     0.000000               12\n",
       "46             0  0.000000        0.000000     0.000000                6\n",
       "47             1  0.333333        0.333333     0.910239                4\n",
       "48             0  0.000000        0.000000     0.000000                4\n",
       "49             0  0.000000        0.000000     0.000000                8\n",
       "50             1  0.333333        0.250000     0.721348                4\n",
       "51             1  0.250000        0.250000     0.721348                6"
      ]
     },
     "execution_count": 46,
     "metadata": {},
     "output_type": "execute_result"
    }
   ],
   "source": [
    "df"
   ]
  },
  {
   "cell_type": "markdown",
   "metadata": {},
   "source": [
    "### Normalize data"
   ]
  },
  {
   "cell_type": "code",
   "execution_count": 47,
   "metadata": {},
   "outputs": [],
   "source": [
    "from sklearn.preprocessing import MinMaxScaler\n",
    "df.index = index\n",
    "scaler = MinMaxScaler()"
   ]
  },
  {
   "cell_type": "code",
   "execution_count": 48,
   "metadata": {},
   "outputs": [
    {
     "name": "stderr",
     "output_type": "stream",
     "text": [
      "C:\\Users\\Hassan\\Anaconda3\\lib\\site-packages\\sklearn\\preprocessing\\data.py:334: DataConversionWarning: Data with input dtype int64, float64 were all converted to float64 by MinMaxScaler.\n",
      "  return self.partial_fit(X, y)\n"
     ]
    }
   ],
   "source": [
    "scaled_df = pd.DataFrame(scaler.fit_transform(df))\n",
    "scaled_df.columns = ['common_neigh', 'jaccard', 'resource_alloc', 'adamic_adar', 'pref_attachment']"
   ]
  },
  {
   "cell_type": "code",
   "execution_count": 49,
   "metadata": {},
   "outputs": [
    {
     "data": {
      "text/html": [
       "<div>\n",
       "<style scoped>\n",
       "    .dataframe tbody tr th:only-of-type {\n",
       "        vertical-align: middle;\n",
       "    }\n",
       "\n",
       "    .dataframe tbody tr th {\n",
       "        vertical-align: top;\n",
       "    }\n",
       "\n",
       "    .dataframe thead th {\n",
       "        text-align: right;\n",
       "    }\n",
       "</style>\n",
       "<table border=\"1\" class=\"dataframe\">\n",
       "  <thead>\n",
       "    <tr style=\"text-align: right;\">\n",
       "      <th></th>\n",
       "      <th>common_neigh</th>\n",
       "      <th>jaccard</th>\n",
       "      <th>resource_alloc</th>\n",
       "      <th>adamic_adar</th>\n",
       "      <th>pref_attachment</th>\n",
       "    </tr>\n",
       "  </thead>\n",
       "  <tbody>\n",
       "    <tr>\n",
       "      <th>0</th>\n",
       "      <td>1.0</td>\n",
       "      <td>1.0</td>\n",
       "      <td>0.666667</td>\n",
       "      <td>0.63093</td>\n",
       "      <td>0.090909</td>\n",
       "    </tr>\n",
       "    <tr>\n",
       "      <th>1</th>\n",
       "      <td>0.0</td>\n",
       "      <td>0.0</td>\n",
       "      <td>0.000000</td>\n",
       "      <td>0.00000</td>\n",
       "      <td>0.454545</td>\n",
       "    </tr>\n",
       "    <tr>\n",
       "      <th>2</th>\n",
       "      <td>0.0</td>\n",
       "      <td>0.0</td>\n",
       "      <td>0.000000</td>\n",
       "      <td>0.00000</td>\n",
       "      <td>0.090909</td>\n",
       "    </tr>\n",
       "    <tr>\n",
       "      <th>3</th>\n",
       "      <td>1.0</td>\n",
       "      <td>0.5</td>\n",
       "      <td>1.000000</td>\n",
       "      <td>1.00000</td>\n",
       "      <td>0.454545</td>\n",
       "    </tr>\n",
       "    <tr>\n",
       "      <th>4</th>\n",
       "      <td>0.0</td>\n",
       "      <td>0.0</td>\n",
       "      <td>0.000000</td>\n",
       "      <td>0.00000</td>\n",
       "      <td>0.272727</td>\n",
       "    </tr>\n",
       "  </tbody>\n",
       "</table>\n",
       "</div>"
      ],
      "text/plain": [
       "   common_neigh  jaccard  resource_alloc  adamic_adar  pref_attachment\n",
       "0           1.0      1.0        0.666667      0.63093         0.090909\n",
       "1           0.0      0.0        0.000000      0.00000         0.454545\n",
       "2           0.0      0.0        0.000000      0.00000         0.090909\n",
       "3           1.0      0.5        1.000000      1.00000         0.454545\n",
       "4           0.0      0.0        0.000000      0.00000         0.272727"
      ]
     },
     "execution_count": 49,
     "metadata": {},
     "output_type": "execute_result"
    }
   ],
   "source": [
    "scaled_df.head()"
   ]
  },
  {
   "cell_type": "code",
   "execution_count": 50,
   "metadata": {},
   "outputs": [],
   "source": [
    "#taking the mean and adding it as a new column\n",
    "scaled_df['mean_score'] = (scaled_df['common_neigh'] + scaled_df['jaccard'] + scaled_df['resource_alloc']\\\n",
    "+ scaled_df['adamic_adar'] + scaled_df['pref_attachment'])/5"
   ]
  },
  {
   "cell_type": "code",
   "execution_count": 51,
   "metadata": {},
   "outputs": [
    {
     "data": {
      "text/html": [
       "<div>\n",
       "<style scoped>\n",
       "    .dataframe tbody tr th:only-of-type {\n",
       "        vertical-align: middle;\n",
       "    }\n",
       "\n",
       "    .dataframe tbody tr th {\n",
       "        vertical-align: top;\n",
       "    }\n",
       "\n",
       "    .dataframe thead th {\n",
       "        text-align: right;\n",
       "    }\n",
       "</style>\n",
       "<table border=\"1\" class=\"dataframe\">\n",
       "  <thead>\n",
       "    <tr style=\"text-align: right;\">\n",
       "      <th></th>\n",
       "      <th>common_neigh</th>\n",
       "      <th>jaccard</th>\n",
       "      <th>resource_alloc</th>\n",
       "      <th>adamic_adar</th>\n",
       "      <th>pref_attachment</th>\n",
       "      <th>mean_score</th>\n",
       "    </tr>\n",
       "  </thead>\n",
       "  <tbody>\n",
       "    <tr>\n",
       "      <th>0</th>\n",
       "      <td>1.0</td>\n",
       "      <td>1.0</td>\n",
       "      <td>0.666667</td>\n",
       "      <td>0.63093</td>\n",
       "      <td>0.090909</td>\n",
       "      <td>0.677701</td>\n",
       "    </tr>\n",
       "    <tr>\n",
       "      <th>1</th>\n",
       "      <td>0.0</td>\n",
       "      <td>0.0</td>\n",
       "      <td>0.000000</td>\n",
       "      <td>0.00000</td>\n",
       "      <td>0.454545</td>\n",
       "      <td>0.090909</td>\n",
       "    </tr>\n",
       "    <tr>\n",
       "      <th>2</th>\n",
       "      <td>0.0</td>\n",
       "      <td>0.0</td>\n",
       "      <td>0.000000</td>\n",
       "      <td>0.00000</td>\n",
       "      <td>0.090909</td>\n",
       "      <td>0.018182</td>\n",
       "    </tr>\n",
       "    <tr>\n",
       "      <th>3</th>\n",
       "      <td>1.0</td>\n",
       "      <td>0.5</td>\n",
       "      <td>1.000000</td>\n",
       "      <td>1.00000</td>\n",
       "      <td>0.454545</td>\n",
       "      <td>0.790909</td>\n",
       "    </tr>\n",
       "    <tr>\n",
       "      <th>4</th>\n",
       "      <td>0.0</td>\n",
       "      <td>0.0</td>\n",
       "      <td>0.000000</td>\n",
       "      <td>0.00000</td>\n",
       "      <td>0.272727</td>\n",
       "      <td>0.054545</td>\n",
       "    </tr>\n",
       "  </tbody>\n",
       "</table>\n",
       "</div>"
      ],
      "text/plain": [
       "   common_neigh  jaccard  resource_alloc  adamic_adar  pref_attachment  \\\n",
       "0           1.0      1.0        0.666667      0.63093         0.090909   \n",
       "1           0.0      0.0        0.000000      0.00000         0.454545   \n",
       "2           0.0      0.0        0.000000      0.00000         0.090909   \n",
       "3           1.0      0.5        1.000000      1.00000         0.454545   \n",
       "4           0.0      0.0        0.000000      0.00000         0.272727   \n",
       "\n",
       "   mean_score  \n",
       "0    0.677701  \n",
       "1    0.090909  \n",
       "2    0.018182  \n",
       "3    0.790909  \n",
       "4    0.054545  "
      ]
     },
     "execution_count": 51,
     "metadata": {},
     "output_type": "execute_result"
    }
   ],
   "source": [
    "scaled_df.head()"
   ]
  },
  {
   "cell_type": "code",
   "execution_count": 52,
   "metadata": {},
   "outputs": [],
   "source": [
    "# setting index\n",
    "scaled_df.index = index"
   ]
  },
  {
   "cell_type": "code",
   "execution_count": 53,
   "metadata": {},
   "outputs": [],
   "source": [
    "scaled_df=scaled_df.sort_values('mean_score', ascending=False)"
   ]
  },
  {
   "cell_type": "code",
   "execution_count": 54,
   "metadata": {},
   "outputs": [
    {
     "data": {
      "text/html": [
       "<div>\n",
       "<style scoped>\n",
       "    .dataframe tbody tr th:only-of-type {\n",
       "        vertical-align: middle;\n",
       "    }\n",
       "\n",
       "    .dataframe tbody tr th {\n",
       "        vertical-align: top;\n",
       "    }\n",
       "\n",
       "    .dataframe thead th {\n",
       "        text-align: right;\n",
       "    }\n",
       "</style>\n",
       "<table border=\"1\" class=\"dataframe\">\n",
       "  <thead>\n",
       "    <tr style=\"text-align: right;\">\n",
       "      <th></th>\n",
       "      <th>common_neigh</th>\n",
       "      <th>jaccard</th>\n",
       "      <th>resource_alloc</th>\n",
       "      <th>adamic_adar</th>\n",
       "      <th>pref_attachment</th>\n",
       "      <th>mean_score</th>\n",
       "    </tr>\n",
       "  </thead>\n",
       "  <tbody>\n",
       "    <tr>\n",
       "      <th>(Nadeem, Nadia)</th>\n",
       "      <td>1.0</td>\n",
       "      <td>0.333333</td>\n",
       "      <td>1.000000</td>\n",
       "      <td>1.00000</td>\n",
       "      <td>1.000000</td>\n",
       "      <td>0.866667</td>\n",
       "    </tr>\n",
       "    <tr>\n",
       "      <th>(Asad, Khalid)</th>\n",
       "      <td>1.0</td>\n",
       "      <td>0.500000</td>\n",
       "      <td>1.000000</td>\n",
       "      <td>1.00000</td>\n",
       "      <td>0.454545</td>\n",
       "      <td>0.790909</td>\n",
       "    </tr>\n",
       "    <tr>\n",
       "      <th>(Hassan, Mayeda)</th>\n",
       "      <td>1.0</td>\n",
       "      <td>0.500000</td>\n",
       "      <td>1.000000</td>\n",
       "      <td>1.00000</td>\n",
       "      <td>0.454545</td>\n",
       "      <td>0.790909</td>\n",
       "    </tr>\n",
       "    <tr>\n",
       "      <th>(Hassan, Nadia)</th>\n",
       "      <td>1.0</td>\n",
       "      <td>0.333333</td>\n",
       "      <td>0.666667</td>\n",
       "      <td>0.63093</td>\n",
       "      <td>1.000000</td>\n",
       "      <td>0.726186</td>\n",
       "    </tr>\n",
       "    <tr>\n",
       "      <th>(Asad, Sammiya)</th>\n",
       "      <td>1.0</td>\n",
       "      <td>1.000000</td>\n",
       "      <td>0.666667</td>\n",
       "      <td>0.63093</td>\n",
       "      <td>0.090909</td>\n",
       "      <td>0.677701</td>\n",
       "    </tr>\n",
       "  </tbody>\n",
       "</table>\n",
       "</div>"
      ],
      "text/plain": [
       "                  common_neigh   jaccard  resource_alloc  adamic_adar  \\\n",
       "(Nadeem, Nadia)            1.0  0.333333        1.000000      1.00000   \n",
       "(Asad, Khalid)             1.0  0.500000        1.000000      1.00000   \n",
       "(Hassan, Mayeda)           1.0  0.500000        1.000000      1.00000   \n",
       "(Hassan, Nadia)            1.0  0.333333        0.666667      0.63093   \n",
       "(Asad, Sammiya)            1.0  1.000000        0.666667      0.63093   \n",
       "\n",
       "                  pref_attachment  mean_score  \n",
       "(Nadeem, Nadia)          1.000000    0.866667  \n",
       "(Asad, Khalid)           0.454545    0.790909  \n",
       "(Hassan, Mayeda)         0.454545    0.790909  \n",
       "(Hassan, Nadia)          1.000000    0.726186  \n",
       "(Asad, Sammiya)          0.090909    0.677701  "
      ]
     },
     "execution_count": 54,
     "metadata": {},
     "output_type": "execute_result"
    }
   ],
   "source": [
    "scaled_df.head()"
   ]
  },
  {
   "cell_type": "code",
   "execution_count": 55,
   "metadata": {},
   "outputs": [],
   "source": [
    "#extracting first and second name from the tuple index and turning them into separate columns\n",
    "first_person = []\n",
    "second_person = []\n",
    "for el in scaled_df.index:\n",
    "    first_person.append(el[0])\n",
    "    second_person.append(el[1])\n",
    "    \n",
    "first_person = pd.Series(first_person)\n",
    "second_person = pd.Series(second_person)\n",
    "\n",
    "scaled_df.reset_index(inplace=True)\n",
    "scaled_df = pd.concat([scaled_df, first_person.rename('first_p'), second_person.rename('second_p')], axis=1)"
   ]
  },
  {
   "cell_type": "code",
   "execution_count": 56,
   "metadata": {},
   "outputs": [
    {
     "data": {
      "text/html": [
       "<div>\n",
       "<style scoped>\n",
       "    .dataframe tbody tr th:only-of-type {\n",
       "        vertical-align: middle;\n",
       "    }\n",
       "\n",
       "    .dataframe tbody tr th {\n",
       "        vertical-align: top;\n",
       "    }\n",
       "\n",
       "    .dataframe thead th {\n",
       "        text-align: right;\n",
       "    }\n",
       "</style>\n",
       "<table border=\"1\" class=\"dataframe\">\n",
       "  <thead>\n",
       "    <tr style=\"text-align: right;\">\n",
       "      <th></th>\n",
       "      <th>index</th>\n",
       "      <th>common_neigh</th>\n",
       "      <th>jaccard</th>\n",
       "      <th>resource_alloc</th>\n",
       "      <th>adamic_adar</th>\n",
       "      <th>pref_attachment</th>\n",
       "      <th>mean_score</th>\n",
       "      <th>first_p</th>\n",
       "      <th>second_p</th>\n",
       "    </tr>\n",
       "  </thead>\n",
       "  <tbody>\n",
       "    <tr>\n",
       "      <th>0</th>\n",
       "      <td>(Nadeem, Nadia)</td>\n",
       "      <td>1.0</td>\n",
       "      <td>0.333333</td>\n",
       "      <td>1.000000</td>\n",
       "      <td>1.00000</td>\n",
       "      <td>1.000000</td>\n",
       "      <td>0.866667</td>\n",
       "      <td>Nadeem</td>\n",
       "      <td>Nadia</td>\n",
       "    </tr>\n",
       "    <tr>\n",
       "      <th>1</th>\n",
       "      <td>(Asad, Khalid)</td>\n",
       "      <td>1.0</td>\n",
       "      <td>0.500000</td>\n",
       "      <td>1.000000</td>\n",
       "      <td>1.00000</td>\n",
       "      <td>0.454545</td>\n",
       "      <td>0.790909</td>\n",
       "      <td>Asad</td>\n",
       "      <td>Khalid</td>\n",
       "    </tr>\n",
       "    <tr>\n",
       "      <th>2</th>\n",
       "      <td>(Hassan, Mayeda)</td>\n",
       "      <td>1.0</td>\n",
       "      <td>0.500000</td>\n",
       "      <td>1.000000</td>\n",
       "      <td>1.00000</td>\n",
       "      <td>0.454545</td>\n",
       "      <td>0.790909</td>\n",
       "      <td>Hassan</td>\n",
       "      <td>Mayeda</td>\n",
       "    </tr>\n",
       "    <tr>\n",
       "      <th>3</th>\n",
       "      <td>(Hassan, Nadia)</td>\n",
       "      <td>1.0</td>\n",
       "      <td>0.333333</td>\n",
       "      <td>0.666667</td>\n",
       "      <td>0.63093</td>\n",
       "      <td>1.000000</td>\n",
       "      <td>0.726186</td>\n",
       "      <td>Hassan</td>\n",
       "      <td>Nadia</td>\n",
       "    </tr>\n",
       "    <tr>\n",
       "      <th>4</th>\n",
       "      <td>(Asad, Sammiya)</td>\n",
       "      <td>1.0</td>\n",
       "      <td>1.000000</td>\n",
       "      <td>0.666667</td>\n",
       "      <td>0.63093</td>\n",
       "      <td>0.090909</td>\n",
       "      <td>0.677701</td>\n",
       "      <td>Asad</td>\n",
       "      <td>Sammiya</td>\n",
       "    </tr>\n",
       "    <tr>\n",
       "      <th>5</th>\n",
       "      <td>(Khalid, Hafsa)</td>\n",
       "      <td>1.0</td>\n",
       "      <td>0.500000</td>\n",
       "      <td>0.666667</td>\n",
       "      <td>0.63093</td>\n",
       "      <td>0.454545</td>\n",
       "      <td>0.650428</td>\n",
       "      <td>Khalid</td>\n",
       "      <td>Hafsa</td>\n",
       "    </tr>\n",
       "    <tr>\n",
       "      <th>6</th>\n",
       "      <td>(Asad, Tariq)</td>\n",
       "      <td>1.0</td>\n",
       "      <td>0.500000</td>\n",
       "      <td>0.666667</td>\n",
       "      <td>0.63093</td>\n",
       "      <td>0.454545</td>\n",
       "      <td>0.650428</td>\n",
       "      <td>Asad</td>\n",
       "      <td>Tariq</td>\n",
       "    </tr>\n",
       "    <tr>\n",
       "      <th>7</th>\n",
       "      <td>(Hassan, Zaheer)</td>\n",
       "      <td>1.0</td>\n",
       "      <td>0.500000</td>\n",
       "      <td>0.666667</td>\n",
       "      <td>0.63093</td>\n",
       "      <td>0.454545</td>\n",
       "      <td>0.650428</td>\n",
       "      <td>Hassan</td>\n",
       "      <td>Zaheer</td>\n",
       "    </tr>\n",
       "    <tr>\n",
       "      <th>8</th>\n",
       "      <td>(Nadeem, Mayeda)</td>\n",
       "      <td>1.0</td>\n",
       "      <td>0.500000</td>\n",
       "      <td>0.666667</td>\n",
       "      <td>0.63093</td>\n",
       "      <td>0.454545</td>\n",
       "      <td>0.650428</td>\n",
       "      <td>Nadeem</td>\n",
       "      <td>Mayeda</td>\n",
       "    </tr>\n",
       "    <tr>\n",
       "      <th>9</th>\n",
       "      <td>(Asif, Hafsa)</td>\n",
       "      <td>1.0</td>\n",
       "      <td>0.666667</td>\n",
       "      <td>0.666667</td>\n",
       "      <td>0.63093</td>\n",
       "      <td>0.272727</td>\n",
       "      <td>0.647398</td>\n",
       "      <td>Asif</td>\n",
       "      <td>Hafsa</td>\n",
       "    </tr>\n",
       "  </tbody>\n",
       "</table>\n",
       "</div>"
      ],
      "text/plain": [
       "              index  common_neigh   jaccard  resource_alloc  adamic_adar  \\\n",
       "0   (Nadeem, Nadia)           1.0  0.333333        1.000000      1.00000   \n",
       "1    (Asad, Khalid)           1.0  0.500000        1.000000      1.00000   \n",
       "2  (Hassan, Mayeda)           1.0  0.500000        1.000000      1.00000   \n",
       "3   (Hassan, Nadia)           1.0  0.333333        0.666667      0.63093   \n",
       "4   (Asad, Sammiya)           1.0  1.000000        0.666667      0.63093   \n",
       "5   (Khalid, Hafsa)           1.0  0.500000        0.666667      0.63093   \n",
       "6     (Asad, Tariq)           1.0  0.500000        0.666667      0.63093   \n",
       "7  (Hassan, Zaheer)           1.0  0.500000        0.666667      0.63093   \n",
       "8  (Nadeem, Mayeda)           1.0  0.500000        0.666667      0.63093   \n",
       "9     (Asif, Hafsa)           1.0  0.666667        0.666667      0.63093   \n",
       "\n",
       "   pref_attachment  mean_score first_p second_p  \n",
       "0         1.000000    0.866667  Nadeem    Nadia  \n",
       "1         0.454545    0.790909    Asad   Khalid  \n",
       "2         0.454545    0.790909  Hassan   Mayeda  \n",
       "3         1.000000    0.726186  Hassan    Nadia  \n",
       "4         0.090909    0.677701    Asad  Sammiya  \n",
       "5         0.454545    0.650428  Khalid    Hafsa  \n",
       "6         0.454545    0.650428    Asad    Tariq  \n",
       "7         0.454545    0.650428  Hassan   Zaheer  \n",
       "8         0.454545    0.650428  Nadeem   Mayeda  \n",
       "9         0.272727    0.647398    Asif    Hafsa  "
      ]
     },
     "execution_count": 56,
     "metadata": {},
     "output_type": "execute_result"
    }
   ],
   "source": [
    "scaled_df.head(10)"
   ]
  },
  {
   "cell_type": "markdown",
   "metadata": {},
   "source": [
    "# 8)-Most Likely Friends"
   ]
  },
  {
   "cell_type": "code",
   "execution_count": 57,
   "metadata": {},
   "outputs": [],
   "source": [
    "# define function to fetch later\n",
    "\n",
    "def most_likely_friend(name):\n",
    "    \"\"\"\n",
    "    Input: String of name of individual\n",
    "    Output: Data Frame containing three columns: Person 1, Person 2, and the mean connection probability score \n",
    "    \"\"\"\n",
    "    result_df = scaled_df[(scaled_df.first_p == name) | (scaled_df.second_p == name)].sort_values('mean_score', ascending=False)\n",
    "    result_df.reset_index(drop=True, inplace=True)\n",
    "        \n",
    "       \n",
    "    result_df = result_df[['first_p','second_p', 'mean_score']]\n",
    "    result_df.columns = ['Person 1', 'Person 2', 'Probability of Connection']\n",
    "\n",
    "    return result_df"
   ]
  },
  {
   "cell_type": "code",
   "execution_count": 58,
   "metadata": {},
   "outputs": [
    {
     "data": {
      "text/html": [
       "<div>\n",
       "<style scoped>\n",
       "    .dataframe tbody tr th:only-of-type {\n",
       "        vertical-align: middle;\n",
       "    }\n",
       "\n",
       "    .dataframe tbody tr th {\n",
       "        vertical-align: top;\n",
       "    }\n",
       "\n",
       "    .dataframe thead th {\n",
       "        text-align: right;\n",
       "    }\n",
       "</style>\n",
       "<table border=\"1\" class=\"dataframe\">\n",
       "  <thead>\n",
       "    <tr style=\"text-align: right;\">\n",
       "      <th></th>\n",
       "      <th>Person 1</th>\n",
       "      <th>Person 2</th>\n",
       "      <th>Probability of Connection</th>\n",
       "    </tr>\n",
       "  </thead>\n",
       "  <tbody>\n",
       "    <tr>\n",
       "      <th>0</th>\n",
       "      <td>Nadeem</td>\n",
       "      <td>Nadia</td>\n",
       "      <td>0.866667</td>\n",
       "    </tr>\n",
       "    <tr>\n",
       "      <th>1</th>\n",
       "      <td>Nadeem</td>\n",
       "      <td>Mayeda</td>\n",
       "      <td>0.650428</td>\n",
       "    </tr>\n",
       "    <tr>\n",
       "      <th>2</th>\n",
       "      <td>Nadeem</td>\n",
       "      <td>Tariq</td>\n",
       "      <td>0.145455</td>\n",
       "    </tr>\n",
       "    <tr>\n",
       "      <th>3</th>\n",
       "      <td>Nadeem</td>\n",
       "      <td>Hassan</td>\n",
       "      <td>0.145455</td>\n",
       "    </tr>\n",
       "    <tr>\n",
       "      <th>4</th>\n",
       "      <td>Asad</td>\n",
       "      <td>Nadeem</td>\n",
       "      <td>0.090909</td>\n",
       "    </tr>\n",
       "    <tr>\n",
       "      <th>5</th>\n",
       "      <td>Nadeem</td>\n",
       "      <td>Zaheer</td>\n",
       "      <td>0.090909</td>\n",
       "    </tr>\n",
       "    <tr>\n",
       "      <th>6</th>\n",
       "      <td>Sammiya</td>\n",
       "      <td>Nadeem</td>\n",
       "      <td>0.036364</td>\n",
       "    </tr>\n",
       "    <tr>\n",
       "      <th>7</th>\n",
       "      <td>Nadeem</td>\n",
       "      <td>Saleem</td>\n",
       "      <td>0.036364</td>\n",
       "    </tr>\n",
       "  </tbody>\n",
       "</table>\n",
       "</div>"
      ],
      "text/plain": [
       "  Person 1 Person 2  Probability of Connection\n",
       "0   Nadeem    Nadia                   0.866667\n",
       "1   Nadeem   Mayeda                   0.650428\n",
       "2   Nadeem    Tariq                   0.145455\n",
       "3   Nadeem   Hassan                   0.145455\n",
       "4     Asad   Nadeem                   0.090909\n",
       "5   Nadeem   Zaheer                   0.090909\n",
       "6  Sammiya   Nadeem                   0.036364\n",
       "7   Nadeem   Saleem                   0.036364"
      ]
     },
     "execution_count": 58,
     "metadata": {},
     "output_type": "execute_result"
    }
   ],
   "source": [
    "most_likely_friend('Nadeem')"
   ]
  },
  {
   "cell_type": "code",
   "execution_count": 59,
   "metadata": {},
   "outputs": [
    {
     "data": {
      "text/html": [
       "<div>\n",
       "<style scoped>\n",
       "    .dataframe tbody tr th:only-of-type {\n",
       "        vertical-align: middle;\n",
       "    }\n",
       "\n",
       "    .dataframe tbody tr th {\n",
       "        vertical-align: top;\n",
       "    }\n",
       "\n",
       "    .dataframe thead th {\n",
       "        text-align: right;\n",
       "    }\n",
       "</style>\n",
       "<table border=\"1\" class=\"dataframe\">\n",
       "  <thead>\n",
       "    <tr style=\"text-align: right;\">\n",
       "      <th></th>\n",
       "      <th>Person 1</th>\n",
       "      <th>Person 2</th>\n",
       "      <th>Probability of Connection</th>\n",
       "    </tr>\n",
       "  </thead>\n",
       "  <tbody>\n",
       "    <tr>\n",
       "      <th>0</th>\n",
       "      <td>Hassan</td>\n",
       "      <td>Mayeda</td>\n",
       "      <td>0.790909</td>\n",
       "    </tr>\n",
       "    <tr>\n",
       "      <th>1</th>\n",
       "      <td>Nadeem</td>\n",
       "      <td>Mayeda</td>\n",
       "      <td>0.650428</td>\n",
       "    </tr>\n",
       "    <tr>\n",
       "      <th>2</th>\n",
       "      <td>Mayeda</td>\n",
       "      <td>Asif</td>\n",
       "      <td>0.647398</td>\n",
       "    </tr>\n",
       "    <tr>\n",
       "      <th>3</th>\n",
       "      <td>Mayeda</td>\n",
       "      <td>Nadia</td>\n",
       "      <td>0.127273</td>\n",
       "    </tr>\n",
       "    <tr>\n",
       "      <th>4</th>\n",
       "      <td>Mayeda</td>\n",
       "      <td>Tariq</td>\n",
       "      <td>0.090909</td>\n",
       "    </tr>\n",
       "    <tr>\n",
       "      <th>5</th>\n",
       "      <td>Mayeda</td>\n",
       "      <td>Hafsa</td>\n",
       "      <td>0.054545</td>\n",
       "    </tr>\n",
       "    <tr>\n",
       "      <th>6</th>\n",
       "      <td>Mayeda</td>\n",
       "      <td>Zaheer</td>\n",
       "      <td>0.054545</td>\n",
       "    </tr>\n",
       "    <tr>\n",
       "      <th>7</th>\n",
       "      <td>Sammiya</td>\n",
       "      <td>Mayeda</td>\n",
       "      <td>0.018182</td>\n",
       "    </tr>\n",
       "    <tr>\n",
       "      <th>8</th>\n",
       "      <td>Mayeda</td>\n",
       "      <td>Saleem</td>\n",
       "      <td>0.018182</td>\n",
       "    </tr>\n",
       "  </tbody>\n",
       "</table>\n",
       "</div>"
      ],
      "text/plain": [
       "  Person 1 Person 2  Probability of Connection\n",
       "0   Hassan   Mayeda                   0.790909\n",
       "1   Nadeem   Mayeda                   0.650428\n",
       "2   Mayeda     Asif                   0.647398\n",
       "3   Mayeda    Nadia                   0.127273\n",
       "4   Mayeda    Tariq                   0.090909\n",
       "5   Mayeda    Hafsa                   0.054545\n",
       "6   Mayeda   Zaheer                   0.054545\n",
       "7  Sammiya   Mayeda                   0.018182\n",
       "8   Mayeda   Saleem                   0.018182"
      ]
     },
     "execution_count": 59,
     "metadata": {},
     "output_type": "execute_result"
    }
   ],
   "source": [
    "most_likely_friend('Mayeda')"
   ]
  },
  {
   "cell_type": "code",
   "execution_count": 60,
   "metadata": {},
   "outputs": [
    {
     "data": {
      "text/html": [
       "<div>\n",
       "<style scoped>\n",
       "    .dataframe tbody tr th:only-of-type {\n",
       "        vertical-align: middle;\n",
       "    }\n",
       "\n",
       "    .dataframe tbody tr th {\n",
       "        vertical-align: top;\n",
       "    }\n",
       "\n",
       "    .dataframe thead th {\n",
       "        text-align: right;\n",
       "    }\n",
       "</style>\n",
       "<table border=\"1\" class=\"dataframe\">\n",
       "  <thead>\n",
       "    <tr style=\"text-align: right;\">\n",
       "      <th></th>\n",
       "      <th>Person 1</th>\n",
       "      <th>Person 2</th>\n",
       "      <th>Probability of Connection</th>\n",
       "    </tr>\n",
       "  </thead>\n",
       "  <tbody>\n",
       "    <tr>\n",
       "      <th>0</th>\n",
       "      <td>Khalid</td>\n",
       "      <td>Hafsa</td>\n",
       "      <td>0.650428</td>\n",
       "    </tr>\n",
       "    <tr>\n",
       "      <th>1</th>\n",
       "      <td>Asif</td>\n",
       "      <td>Hafsa</td>\n",
       "      <td>0.647398</td>\n",
       "    </tr>\n",
       "    <tr>\n",
       "      <th>2</th>\n",
       "      <td>Saleem</td>\n",
       "      <td>Hafsa</td>\n",
       "      <td>0.618182</td>\n",
       "    </tr>\n",
       "    <tr>\n",
       "      <th>3</th>\n",
       "      <td>Tariq</td>\n",
       "      <td>Hafsa</td>\n",
       "      <td>0.590909</td>\n",
       "    </tr>\n",
       "    <tr>\n",
       "      <th>4</th>\n",
       "      <td>Zaheer</td>\n",
       "      <td>Hafsa</td>\n",
       "      <td>0.587879</td>\n",
       "    </tr>\n",
       "    <tr>\n",
       "      <th>5</th>\n",
       "      <td>Hassan</td>\n",
       "      <td>Hafsa</td>\n",
       "      <td>0.090909</td>\n",
       "    </tr>\n",
       "    <tr>\n",
       "      <th>6</th>\n",
       "      <td>Mayeda</td>\n",
       "      <td>Hafsa</td>\n",
       "      <td>0.054545</td>\n",
       "    </tr>\n",
       "    <tr>\n",
       "      <th>7</th>\n",
       "      <td>Asad</td>\n",
       "      <td>Hafsa</td>\n",
       "      <td>0.054545</td>\n",
       "    </tr>\n",
       "    <tr>\n",
       "      <th>8</th>\n",
       "      <td>Sammiya</td>\n",
       "      <td>Hafsa</td>\n",
       "      <td>0.018182</td>\n",
       "    </tr>\n",
       "  </tbody>\n",
       "</table>\n",
       "</div>"
      ],
      "text/plain": [
       "  Person 1 Person 2  Probability of Connection\n",
       "0   Khalid    Hafsa                   0.650428\n",
       "1     Asif    Hafsa                   0.647398\n",
       "2   Saleem    Hafsa                   0.618182\n",
       "3    Tariq    Hafsa                   0.590909\n",
       "4   Zaheer    Hafsa                   0.587879\n",
       "5   Hassan    Hafsa                   0.090909\n",
       "6   Mayeda    Hafsa                   0.054545\n",
       "7     Asad    Hafsa                   0.054545\n",
       "8  Sammiya    Hafsa                   0.018182"
      ]
     },
     "execution_count": 60,
     "metadata": {},
     "output_type": "execute_result"
    }
   ],
   "source": [
    "most_likely_friend('Hafsa')"
   ]
  }
 ],
 "metadata": {
  "kernelspec": {
   "display_name": "Python 3",
   "language": "python",
   "name": "python3"
  },
  "language_info": {
   "codemirror_mode": {
    "name": "ipython",
    "version": 3
   },
   "file_extension": ".py",
   "mimetype": "text/x-python",
   "name": "python",
   "nbconvert_exporter": "python",
   "pygments_lexer": "ipython3",
   "version": "3.6.5"
  }
 },
 "nbformat": 4,
 "nbformat_minor": 2
}
